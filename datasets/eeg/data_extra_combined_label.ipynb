{
 "cells": [
  {
   "cell_type": "code",
   "execution_count": 20,
   "metadata": {},
   "outputs": [],
   "source": [
    "import scipy.io as sio\n",
    "import numpy as np"
   ]
  },
  {
   "cell_type": "code",
   "execution_count": 32,
   "metadata": {},
   "outputs": [],
   "source": [
    "def add_combined_label(filename):\n",
    "    data = sio.loadmat(filename)\n",
    "    label_combined = []\n",
    "    for i in range(data['label_stimulus'].shape[0]): #0,1  0,1,2,3,4\n",
    "        label = 5 * data['label_alcoholism'][i,0] + data['label_stimulus'][i,0]\n",
    "        label_combined.append(label)\n",
    "    label_combined = np.reshape(label_combined,(-1,1))\n",
    "    if 'label_id' in data.keys():\n",
    "        sio.savemat(filename+'_extra.mat',{'data':data['data'],\n",
    "                                                     'label_alcoholism':data['label_alcoholism'],\n",
    "                                                     'label_stimulus':data['label_stimulus'],\n",
    "                                                     'label_id':data['label_id'],\n",
    "                                                     'label_combined':label_combined})\n",
    "    else:\n",
    "        sio.savemat(filename+'_extra.mat',{'data':data['data'],\n",
    "                                         'label_alcoholism':data['label_alcoholism'],\n",
    "                                         'label_stimulus':data['label_stimulus'],\n",
    "                                         'label_combined':label_combined})"
   ]
  },
  {
   "cell_type": "code",
   "execution_count": 33,
   "metadata": {},
   "outputs": [],
   "source": [
    "add_combined_label('eeg_dummy_images_w_label_step3_within')\n",
    "add_combined_label('uci_eeg_images_train_within')"
   ]
  },
  {
   "cell_type": "code",
   "execution_count": 29,
   "metadata": {},
   "outputs": [
    {
     "data": {
      "text/plain": [
       "True"
      ]
     },
     "execution_count": 29,
     "metadata": {},
     "output_type": "execute_result"
    }
   ],
   "source": [
    "'label_id' in data.keys()"
   ]
  },
  {
   "cell_type": "code",
   "execution_count": 9,
   "metadata": {},
   "outputs": [],
   "source": [
    "for i in range(data['label_stimulus'].shape[0]): #0,1  0,1,2,3,4\n",
    "    label = 5 * data['label_alcoholism'][i,0] + data['label_stimulus'][i,0]\n",
    "    label_combined.append(label)"
   ]
  },
  {
   "cell_type": "code",
   "execution_count": 16,
   "metadata": {},
   "outputs": [],
   "source": [
    "label_combined = np.reshape(label_combined,(-1,1))"
   ]
  },
  {
   "cell_type": "code",
   "execution_count": 17,
   "metadata": {},
   "outputs": [
    {
     "data": {
      "text/plain": [
       "9"
      ]
     },
     "execution_count": 17,
     "metadata": {},
     "output_type": "execute_result"
    }
   ],
   "source": [
    "np.max(label_combined)"
   ]
  },
  {
   "cell_type": "code",
   "execution_count": 18,
   "metadata": {},
   "outputs": [
    {
     "data": {
      "text/plain": [
       "(7435, 1)"
      ]
     },
     "execution_count": 18,
     "metadata": {},
     "output_type": "execute_result"
    }
   ],
   "source": [
    "label_combined.shape"
   ]
  },
  {
   "cell_type": "code",
   "execution_count": 19,
   "metadata": {},
   "outputs": [],
   "source": [
    "sio.savemat('uci_eeg_images_train_within_extra.mat',{'data':data['data'],\n",
    "                                                     'label_alcoholism':data['label_alcoholism'],\n",
    "                                                     'label_stimulus':data['label_stimulus'],\n",
    "                                                     'label_combined':label_combined})"
   ]
  },
  {
   "cell_type": "code",
   "execution_count": null,
   "metadata": {},
   "outputs": [],
   "source": []
  }
 ],
 "metadata": {
  "kernelspec": {
   "display_name": "Python 3",
   "language": "python",
   "name": "python3"
  },
  "language_info": {
   "codemirror_mode": {
    "name": "ipython",
    "version": 3
   },
   "file_extension": ".py",
   "mimetype": "text/x-python",
   "name": "python",
   "nbconvert_exporter": "python",
   "pygments_lexer": "ipython3",
   "version": "3.7.4"
  }
 },
 "nbformat": 4,
 "nbformat_minor": 4
}
